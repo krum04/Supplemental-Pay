{
 "cells": [
  {
   "cell_type": "code",
   "execution_count": 1,
   "metadata": {},
   "outputs": [],
   "source": [
    "import pandas as pd\n",
    "from datetime import date, timedelta"
   ]
  },
  {
   "cell_type": "code",
   "execution_count": 2,
   "metadata": {},
   "outputs": [],
   "source": [
    "payperiod = pd.read_csv('payperiods.csv')"
   ]
  },
  {
   "cell_type": "code",
   "execution_count": 3,
   "metadata": {},
   "outputs": [],
   "source": [
    "payperiod['pay_date']= pd.to_datetime(payperiod['pay_date'])\n",
    "payperiod['starting']= pd.to_datetime(payperiod['starting'])\n",
    "payperiod['ending']= pd.to_datetime(payperiod['ending'])\n",
    "payperiod['due']= pd.to_datetime(payperiod['due'])"
   ]
  },
  {
   "cell_type": "code",
   "execution_count": 4,
   "metadata": {},
   "outputs": [
    {
     "name": "stdout",
     "output_type": "stream",
     "text": [
      "2023-02-28\n"
     ]
    }
   ],
   "source": [
    "curDate = date.today() \n",
    "print(curDate)"
   ]
  },
  {
   "cell_type": "code",
   "execution_count": 5,
   "metadata": {},
   "outputs": [
    {
     "name": "stdout",
     "output_type": "stream",
     "text": [
      "Period: 5 \t Due: 03/01/23 \n",
      "\n",
      "\t 02/12/23\n",
      "\t 02/13/23\n",
      "\t 02/14/23\n",
      "\t 02/15/23\n",
      "\t 02/16/23\n",
      "\t 02/17/23\n",
      "\t 02/18/23\n",
      "\t 02/19/23\n",
      "\t 02/20/23\n",
      "\t 02/21/23\n",
      "\t 02/22/23\n",
      "\t 02/23/23\n",
      "\t 02/24/23\n",
      "\t 02/25/23\n",
      "\n",
      "\n",
      "{'Period': 5, 'Due': '03/01/23', 'Dates': ['02/12/23', '02/13/23', '02/14/23', '02/15/23', '02/16/23', '02/17/23', '02/18/23', '02/19/23', '02/20/23', '02/21/23', '02/22/23', '02/23/23', '02/24/23', '02/25/23']}\n"
     ]
    }
   ],
   "source": [
    "payPeriodDict = {}\n",
    "for index, row in payperiod.iterrows():\n",
    "    start = row['starting']\n",
    "    startDue = row['starting'] + timedelta(days=4)\n",
    "    end = row['ending']\n",
    "    due = row['due']\n",
    "    if startDue <= curDate <= due:\n",
    "        payPeriodDict['Period'] = row['period']\n",
    "        payPeriodDict['Due'] = row['due'].strftime('%m/%d/%y')\n",
    "        payPeriodDict['Dates'] = []\n",
    "        delta = end - start\n",
    "        print('Period:', row['period'],'\\t Due:',row['due'].strftime('%m/%d/%y'),'\\n')\n",
    "        count = 1\n",
    "        for i in range(delta.days + 1):\n",
    "\n",
    "            day = row['starting'] + timedelta(days=i)\n",
    "            payPeriodDict['Dates'].append(day.strftime('%m/%d/%y'))\n",
    "            print('\\t',day.strftime('%m/%d/%y'))\n",
    "            count += 1\n",
    "        print('\\n')\n",
    "print(payPeriodDict)\n",
    "    \n",
    "    "
   ]
  }
 ],
 "metadata": {
  "kernelspec": {
   "display_name": "Python 3",
   "language": "python",
   "name": "python3"
  },
  "language_info": {
   "codemirror_mode": {
    "name": "ipython",
    "version": 3
   },
   "file_extension": ".py",
   "mimetype": "text/x-python",
   "name": "python",
   "nbconvert_exporter": "python",
   "pygments_lexer": "ipython3",
   "version": "3.9.0"
  },
  "orig_nbformat": 4,
  "vscode": {
   "interpreter": {
    "hash": "cf92aa13fedf815d5c8dd192b8d835913fde3e8bc926b2a0ad6cc74ef2ba3ca2"
   }
  }
 },
 "nbformat": 4,
 "nbformat_minor": 2
}
